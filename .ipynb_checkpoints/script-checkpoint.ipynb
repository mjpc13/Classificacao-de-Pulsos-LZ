{
 "cells": [
  {
   "cell_type": "code",
   "execution_count": 45,
   "metadata": {},
   "outputs": [],
   "source": [
    "import pandas as pd\n",
    "import numpy as np\n",
    "import ipywidgets as widgets\n",
    "\n",
    "import matplotlib\n",
    "from matplotlib import pyplot as plt\n",
    "from mpl_toolkits.mplot3d import Axes3D \n",
    "\n",
    "import sklearn\n",
    "from sklearn import svm\n",
    "from sklearn.preprocessing import StandardScaler, label_binarize\n",
    "from sklearn.model_selection import train_test_split\n",
    "from sklearn.discriminant_analysis import LinearDiscriminantAnalysis as LDA\n",
    "from sklearn.decomposition import PCA\n",
    "from sklearn.ensemble import RandomForestClassifier\n",
    "from sklearn.model_selection import RandomizedSearchCV\n",
    "from sklearn.multiclass import OneVsRestClassifier\n",
    "from sklearn.metrics import accuracy_score, confusion_matrix, classification_report, plot_confusion_matrix, roc_curve, auc"
   ]
  },
  {
   "cell_type": "markdown",
   "metadata": {},
   "source": [
    "# Classificacao de Pulsos LZ\n",
    "\n",
    "## Suporte de cada classe"
   ]
  },
  {
   "cell_type": "code",
   "execution_count": 17,
   "metadata": {},
   "outputs": [],
   "source": [
    "#Grava os dados numa Dataframe\n",
    "dataframe = pd.read_csv(\"../Data_Challenge_1.csv\", header=0)\n",
    "full_dataframe = pd.read_csv(\"../Data_Challenge_1_full.csv\", header=0)"
   ]
  },
  {
   "cell_type": "code",
   "execution_count": 18,
   "metadata": {},
   "outputs": [
    {
     "name": "stdout",
     "output_type": "stream",
     "text": [
      "3    692863\n",
      "2    285119\n",
      "1     22018\n",
      "Name: pulseClass, dtype: int64\n"
     ]
    },
    {
     "data": {
      "image/png": "[encoded data removed]",
      "text/plain": [
       "<Figure size 432x288 with 1 Axes>"
      ]
     },
     "metadata": {},
     "output_type": "display_data"
    }
   ],
   "source": [
    "#Mostra a representatividade de cada class\n",
    "labels = 'SE', \"S2\", \"S1\"\n",
    "\n",
    "print(dataframe['pulseClass'].value_counts(sort=True))\n",
    "\n",
    "plt.pie([692863, 285119, 22018], labels=labels,autopct='%1.1f%%', shadow = True)\n",
    "plt.show()"
   ]
  },
  {
   "cell_type": "code",
   "execution_count": 19,
   "metadata": {},
   "outputs": [],
   "source": [
    "# Dividir os dados em Treino e Teste (80%//20%)\n",
    "\n",
    "train_data, test_data, train_lbl, test_lbl = train_test_split(dataframe.drop([\"pulseClass\"], axis=1), dataframe[\"pulseClass\"], test_size=1/5.0, random_state=0)\n"
   ]
  },
  {
   "cell_type": "markdown",
   "metadata": {},
   "source": [
    "## Normalizacao dos dados"
   ]
  },
  {
   "cell_type": "code",
   "execution_count": 20,
   "metadata": {},
   "outputs": [],
   "source": [
    "#Metodo 1\n",
    "def standardizeData(df):\n",
    "    # copy the dataframe\n",
    "    df_std = df.copy()\n",
    "    \n",
    "    for column in df_std.columns:\n",
    "        df_std[column] = (df_std[column] - df_std[column].mean()) / df_std[column].std()\n",
    "        \n",
    "    return df_std\n",
    "\n",
    "dataframe_std = standardizeData(dataframe.drop([\"pulseClass\"], axis=1))"
   ]
  },
  {
   "cell_type": "code",
   "execution_count": 21,
   "metadata": {},
   "outputs": [],
   "source": [
    "#Metodo 2\n",
    "\n",
    "values = dataframe.drop([\"pulseClass\"], axis=1).values\n",
    "\n",
    "scaler = StandardScaler()\n",
    "scaler.fit(values)\n",
    "\n",
    "values = scaler.transform(values)\n",
    "train_data, test_data, train_lbl, test_lbl = train_test_split(values, dataframe[\"pulseClass\"], test_size=1/5.0, random_state=0)\n"
   ]
  },
  {
   "cell_type": "markdown",
   "metadata": {},
   "source": [
    "## Estudo da correlacao dos dados"
   ]
  },
  {
   "cell_type": "code",
   "execution_count": 22,
   "metadata": {},
   "outputs": [
    {
     "data": {
      "application/vnd.jupyter.widget-view+json": {
       "model_id": "3162a02551424e2da198e17598eeb755",
       "version_major": 2,
       "version_minor": 0
      },
      "text/plain": [
       "Dropdown(description='X axis', options=('pA', 'pF50', 'TBA', 'pH', 'pL', 'pL90', 'aft5', 'aft25', 'aft50', 'af…"
      ]
     },
     "metadata": {},
     "output_type": "display_data"
    },
    {
     "data": {
      "application/vnd.jupyter.widget-view+json": {
       "model_id": "7bf6620978e349a79c4d6ca58d1435fe",
       "version_major": 2,
       "version_minor": 0
      },
      "text/plain": [
       "Dropdown(description='Y axis', options=('pA', 'pF50', 'TBA', 'pH', 'pL', 'pL90', 'aft5', 'aft25', 'aft50', 'af…"
      ]
     },
     "metadata": {},
     "output_type": "display_data"
    }
   ],
   "source": [
    "w_x_axis = widgets.Dropdown(\n",
    "    options=list(dataframe.columns[1:]),\n",
    "    description='X axis',\n",
    "    disabled=False,\n",
    ")\n",
    "\n",
    "w_y_axis = widgets.Dropdown(\n",
    "    options=list(dataframe.columns[1:]),\n",
    "    description='Y axis',\n",
    "    disabled=False,\n",
    ")\n",
    "\n",
    "display(w_x_axis)\n",
    "display(w_y_axis)"
   ]
  },
  {
   "cell_type": "code",
   "execution_count": 23,
   "metadata": {},
   "outputs": [
    {
     "data": {
      "image/png": "[encoded data removed]",
      "text/plain": [
       "<Figure size 432x288 with 2 Axes>"
      ]
     },
     "metadata": {
      "needs_background": "light"
     },
     "output_type": "display_data"
    }
   ],
   "source": [
    "x = dataframe[w_x_axis.value].values\n",
    "y = dataframe[w_y_axis.value].values\n",
    "label = dataframe[\"pulseClass\"].values\n",
    "\n",
    "\n",
    "plt.hist2d(x, np.log10(y), bins=(np.linspace(-1.0,1.2,150), np.linspace(0.0,7.5,150)),density = True,norm=matplotlib.colors.LogNorm(), cmap=plt.cm.viridis)\n",
    "plt.xlabel(w_x_axis.value)\n",
    "plt.ylabel(\"log(\" + w_y_axis.value + \")\")\n",
    "plt.colorbar()\n",
    "plt.show()"
   ]
  },
  {
   "cell_type": "markdown",
   "metadata": {},
   "source": [
    "## Selecao e reducao de Features\n",
    "\n",
    "### Por correlacao"
   ]
  },
  {
   "cell_type": "code",
   "execution_count": 24,
   "metadata": {},
   "outputs": [
    {
     "data": {
      "text/plain": [
       "<matplotlib.colorbar.Colorbar at 0x7fdabaee05c0>"
      ]
     },
     "execution_count": 24,
     "metadata": {},
     "output_type": "execute_result"
    },
    {
     "data": {
      "image/png": "[encoded data removed]",
      "text/plain": [
       "<Figure size 288x288 with 2 Axes>"
      ]
     },
     "metadata": {
      "needs_background": "light"
     },
     "output_type": "display_data"
    }
   ],
   "source": [
    "plt.matshow(dataframe_std.cov())\n",
    "plt.xticks(range(17),dataframe_std.columns,fontsize=11,rotation=90)\n",
    "plt.yticks(range(17),dataframe_std.columns,fontsize=11)\n",
    "plt.colorbar()"
   ]
  },
  {
   "cell_type": "markdown",
   "metadata": {},
   "source": [
    "A matrix de Covariancia mostra que os aftxx estao altamentre correlacionados entre si, assim como os pAxx. Isto significa que usar pA100 e pA200 nao vai adicionar grande informacao vs usar apenas pA100, por isso podemos ignorar features altamente correlacionadas. Mas em vez de simplesmente ignorar, podemos combinar features e tentar eliminar a correlacao entre elas. E possivel eliminar a dependencia entre os varios pAxx's se dividirmos pela area total do sinal (pA).\n",
    "\n",
    "ADICIONAR FORMULA EM LATEX"
   ]
  },
  {
   "cell_type": "code",
   "execution_count": 25,
   "metadata": {},
   "outputs": [
    {
     "data": {
      "text/plain": [
       "<matplotlib.colorbar.Colorbar at 0x7fdb385fdf28>"
      ]
     },
     "execution_count": 25,
     "metadata": {},
     "output_type": "execute_result"
    },
    {
     "data": {
      "image/png": "[encoded data removed]",
      "text/plain": [
       "<Figure size 288x288 with 2 Axes>"
      ]
     },
     "metadata": {
      "needs_background": "light"
     },
     "output_type": "display_data"
    }
   ],
   "source": [
    "#Eliminar correlacao entre pAxxx\n",
    "\n",
    "old_feat_names = [\"pA100\", \"pA200\", \"pA500\", \"pA1k\", \"pA2k\", \"pA5k\"]\n",
    "new_feat_names = [\"pF100\", \"pF200\", \"pF500\", \"pF1k\", \"pF2k\", \"pF5k\"]\n",
    "new_dataframe = dataframe\n",
    "\n",
    "for i in range(6):\n",
    "    \n",
    "    new_dataframe[new_feat_names[i]] = dataframe[old_feat_names[i]]/dataframe['pA']\n",
    "\n",
    "new_dataframe_std = standardizeData(new_dataframe.drop(old_feat_names, axis=1))\n",
    "\n",
    "new_dataframe_std = new_dataframe_std.drop(\"pL\",axis=1)\n",
    "\n",
    "plt.matshow(new_dataframe_std.cov())\n",
    "plt.xticks(range(17),new_dataframe_std.columns,fontsize=11,rotation=90)\n",
    "plt.yticks(range(17),new_dataframe_std.columns,fontsize=11)\n",
    "plt.colorbar()"
   ]
  },
  {
   "cell_type": "code",
   "execution_count": 26,
   "metadata": {},
   "outputs": [
    {
     "data": {
      "text/plain": [
       "<matplotlib.colorbar.Colorbar at 0x7fdb1813b278>"
      ]
     },
     "execution_count": 26,
     "metadata": {},
     "output_type": "execute_result"
    },
    {
     "data": {
      "image/png": "[encoded data removed]",
      "text/plain": [
       "<Figure size 288x288 with 2 Axes>"
      ]
     },
     "metadata": {
      "needs_background": "light"
     },
     "output_type": "display_data"
    }
   ],
   "source": [
    "#Combinar os aftxx com LDA\n",
    "\n",
    "lda = LDA(n_components=2)\n",
    "\n",
    "lda_afts = lda.fit_transform(new_dataframe_std[[\"aft5\",\"aft25\", \"aft50\", \"aft75\", \"aft95\"]].values, dataframe[\"pulseClass\"].values)\n",
    "\n",
    "new_dataframe_std = new_dataframe_std.drop([\"aft5\",\"aft25\", \"aft50\", \"aft75\", \"aft95\"], axis=1)\n",
    "new_dataframe_std[\"lda_aft1\"] = lda_afts[:,0]\n",
    "new_dataframe_std[\"lda_aft2\"] = lda_afts[:,1]\n",
    "\n",
    "plt.matshow(new_dataframe_std.cov())\n",
    "plt.xticks(range(14),new_dataframe_std.columns,fontsize=11,rotation=90)\n",
    "plt.yticks(range(14),new_dataframe_std.columns,fontsize=11)\n",
    "plt.colorbar()"
   ]
  },
  {
   "cell_type": "code",
   "execution_count": 27,
   "metadata": {},
   "outputs": [
    {
     "data": {
      "image/png": "[encoded data removed]",
      "text/plain": [
       "<Figure size 432x288 with 1 Axes>"
      ]
     },
     "metadata": {
      "needs_background": "light"
     },
     "output_type": "display_data"
    }
   ],
   "source": [
    "# now we can perform a lookup on a 'view' of the dataframe\n",
    "S1 = new_dataframe_std.loc[dataframe.pulseClass==1]\n",
    "S2 = new_dataframe_std.loc[dataframe.pulseClass==2]\n",
    "SE = new_dataframe_std.loc[dataframe.pulseClass==3]\n",
    "\n",
    "plt.hist(S1[\"lda_aft1\"], bins=np.linspace(-0.5,0.7,150), alpha=0.5, density=True, label=\"S1\")\n",
    "plt.hist(S2[\"lda_aft1\"], bins=np.linspace(-0.5,0.7,150), alpha=0.5, density=True, label=\"S2\")\n",
    "plt.hist(SE[\"lda_aft1\"], bins=np.linspace(-0.5,0.7,150), alpha=0.5, density=True, label=\"SE\")\n",
    "plt.legend()\n",
    "plt.xlabel('LDA 1 Values');"
   ]
  },
  {
   "cell_type": "code",
   "execution_count": 28,
   "metadata": {},
   "outputs": [
    {
     "data": {
      "image/png": "[encoded data removed]",
      "text/plain": [
       "<Figure size 432x288 with 1 Axes>"
      ]
     },
     "metadata": {
      "needs_background": "light"
     },
     "output_type": "display_data"
    }
   ],
   "source": [
    "plt.hist(S1[\"lda_aft2\"], bins=np.linspace(-1.0,0.5,150), alpha=0.5, density=True, label=\"S1\")\n",
    "plt.hist(S2[\"lda_aft2\"], bins=np.linspace(-1.0,0.5,150), alpha=0.5, density=True, label=\"S2\")\n",
    "plt.hist(SE[\"lda_aft2\"], bins=np.linspace(-1.0,0.5,150), alpha=0.5, density=True, label=\"SE\")\n",
    "plt.legend()\n",
    "plt.xlabel('LDA 2 Values');"
   ]
  },
  {
   "cell_type": "code",
   "execution_count": 29,
   "metadata": {},
   "outputs": [],
   "source": [
    "final_data = new_dataframe_std.drop([\"pulseClass\",\"pF100\", \"pF50\", \"pF5k\"], axis = 1)\n",
    "\n",
    "\n",
    "threshold_train_data, threshold_test_data, threshold_train_lbl, threshold_test_lbl = train_test_split(final_data, dataframe[\"pulseClass\"], test_size=1/5.0, random_state=0) "
   ]
  },
  {
   "cell_type": "markdown",
   "metadata": {},
   "source": [
    "### PCA Analysis"
   ]
  },
  {
   "cell_type": "code",
   "execution_count": 30,
   "metadata": {},
   "outputs": [],
   "source": [
    "pca = PCA(.99)\n",
    "pca.fit(train_data)\n",
    "\n",
    "pca_train_data = pca.transform(train_data)\n",
    "pca_test_data = pca.transform(test_data)\n"
   ]
  },
  {
   "cell_type": "markdown",
   "metadata": {},
   "source": [
    "## Random Forests\n",
    "\n",
    "### PCA Dataset"
   ]
  },
  {
   "cell_type": "code",
   "execution_count": 31,
   "metadata": {},
   "outputs": [],
   "source": [
    "pca_rf = RandomForestClassifier(random_state = 42, oob_score = True)\n",
    "\n",
    "pca_rf.fit(pca_train_data, train_lbl);"
   ]
  },
  {
   "cell_type": "code",
   "execution_count": 44,
   "metadata": {},
   "outputs": [
    {
     "name": "stdout",
     "output_type": "stream",
     "text": [
      "              precision    recall  f1-score   support\n",
      "\n",
      "           1       1.00      1.00      1.00      4388\n",
      "           2       0.99      0.98      0.99     56898\n",
      "           3       0.99      1.00      0.99    138714\n",
      "\n",
      "    accuracy                           0.99    200000\n",
      "   macro avg       1.00      0.99      0.99    200000\n",
      "weighted avg       0.99      0.99      0.99    200000\n",
      "\n",
      "Accuracy =  0.99283\n",
      "oob error =  0.007367499999999971\n"
     ]
    }
   ],
   "source": [
    "pca_predictions = pca_rf.predict(pca_test_data);\n",
    "acc = pca_rf.score(pca_test_data,test_lbl)\n",
    "\n",
    "print(classification_report(test_lbl, pca_predictions))\n",
    "print(\"Accuracy = \", acc)\n",
    "print(\"oob error = \", 1 - pca_rf.oob_score_)"
   ]
  },
  {
   "cell_type": "code",
   "execution_count": 33,
   "metadata": {},
   "outputs": [
    {
     "data": {
      "image/png": "[encoded data removed]",
      "text/plain": [
       "<Figure size 432x288 with 2 Axes>"
      ]
     },
     "metadata": {
      "needs_background": "light"
     },
     "output_type": "display_data"
    }
   ],
   "source": [
    "plot_confusion_matrix(pca_rf, pca_test_data, test_lbl, normalize = \"true\")\n",
    "plt.show()"
   ]
  },
  {
   "cell_type": "markdown",
   "metadata": {},
   "source": [
    "### Threshold Dataset"
   ]
  },
  {
   "cell_type": "code",
   "execution_count": null,
   "metadata": {},
   "outputs": [],
   "source": [
    "thr_rf = RandomForestClassifier(random_state = 42, oob_score = True)\n",
    "\n",
    "thr_rf.fit(threshold_train_data, threshold_train_lbl);"
   ]
  },
  {
   "cell_type": "code",
   "execution_count": null,
   "metadata": {},
   "outputs": [],
   "source": [
    "thr_predictions = thr_rf.predict(threshold_test_data);\n",
    "print(classification_report(threshold_test_lbl, thr_predictions))\n",
    "print(\"oob error = \", 1 - thr_rf.oob_score_)"
   ]
  },
  {
   "cell_type": "code",
   "execution_count": null,
   "metadata": {},
   "outputs": [],
   "source": [
    "plot_confusion_matrix(thr_rf, threshold_test_data, threshold_test_lbl, normalize = \"true\")\n",
    "plt.show()"
   ]
  },
  {
   "cell_type": "code",
   "execution_count": null,
   "metadata": {},
   "outputs": [],
   "source": [
    "plt.bar(threshold_train_data.columns,thr_rf.feature_importances_)\n",
    "plt.xlabel(\"Features\")\n",
    "plt.ylabel(\"Importance Score\")\n",
    "plt.xticks(fontsize=11,rotation=90)\n",
    "plt.show()"
   ]
  },
  {
   "cell_type": "markdown",
   "metadata": {},
   "source": [
    "## One vs All"
   ]
  },
  {
   "cell_type": "code",
   "execution_count": 49,
   "metadata": {},
   "outputs": [],
   "source": [
    "y = label_binarize(dataframe[\"pulseClass\"], classes=[0, 1, 2])\n",
    "n_classes = y.shape[1]\n",
    "\n",
    "X_train, X_test, y_train, y_test = train_test_split(final_data, y, test_size=1/5.0, random_state=0)"
   ]
  },
  {
   "cell_type": "code",
   "execution_count": 50,
   "metadata": {},
   "outputs": [
    {
     "ename": "NameError",
     "evalue": "name 'svm' is not defined",
     "output_type": "error",
     "traceback": [
      "\u001b[0;31m---------------------------------------------------------------------------\u001b[0m",
      "\u001b[0;31mNameError\u001b[0m                                 Traceback (most recent call last)",
      "\u001b[0;32m<ipython-input-50-dd02c60ad9a3>\u001b[0m in \u001b[0;36m<module>\u001b[0;34m\u001b[0m\n\u001b[1;32m      1\u001b[0m \u001b[0;31m# Learn to predict each class against the other\u001b[0m\u001b[0;34m\u001b[0m\u001b[0;34m\u001b[0m\u001b[0;34m\u001b[0m\u001b[0m\n\u001b[0;32m----> 2\u001b[0;31m \u001b[0mclassifier\u001b[0m \u001b[0;34m=\u001b[0m \u001b[0mOneVsRestClassifier\u001b[0m\u001b[0;34m(\u001b[0m\u001b[0msvm\u001b[0m\u001b[0;34m.\u001b[0m\u001b[0mSVC\u001b[0m\u001b[0;34m(\u001b[0m\u001b[0mkernel\u001b[0m\u001b[0;34m=\u001b[0m\u001b[0;34m'linear'\u001b[0m\u001b[0;34m,\u001b[0m \u001b[0mprobability\u001b[0m\u001b[0;34m=\u001b[0m\u001b[0;32mTrue\u001b[0m\u001b[0;34m,\u001b[0m \u001b[0mrandom_state\u001b[0m\u001b[0;34m=\u001b[0m\u001b[0;36m42\u001b[0m\u001b[0;34m)\u001b[0m\u001b[0;34m)\u001b[0m\u001b[0;34m\u001b[0m\u001b[0;34m\u001b[0m\u001b[0m\n\u001b[0m\u001b[1;32m      3\u001b[0m \u001b[0my_score\u001b[0m \u001b[0;34m=\u001b[0m \u001b[0mclassifier\u001b[0m\u001b[0;34m.\u001b[0m\u001b[0mfit\u001b[0m\u001b[0;34m(\u001b[0m\u001b[0mX_train\u001b[0m\u001b[0;34m,\u001b[0m \u001b[0my_train\u001b[0m\u001b[0;34m)\u001b[0m\u001b[0;34m.\u001b[0m\u001b[0mdecision_function\u001b[0m\u001b[0;34m(\u001b[0m\u001b[0mX_test\u001b[0m\u001b[0;34m)\u001b[0m\u001b[0;34m\u001b[0m\u001b[0;34m\u001b[0m\u001b[0m\n",
      "\u001b[0;31mNameError\u001b[0m: name 'svm' is not defined"
     ]
    }
   ],
   "source": [
    "# Learn to predict each class against the other\n",
    "classifier = OneVsRestClassifier(svm.SVC(kernel='linear', probability=True, random_state=42))\n",
    "y_score = classifier.fit(X_train, y_train).decision_function(X_test)"
   ]
  },
  {
   "cell_type": "code",
   "execution_count": null,
   "metadata": {},
   "outputs": [],
   "source": []
  }
 ],
 "metadata": {
  "hide_input": false,
  "kernelspec": {
   "display_name": "Python 3",
   "language": "python",
   "name": "python3"
  },
  "language_info": {
   "codemirror_mode": {
    "name": "ipython",
    "version": 3
   },
   "file_extension": ".py",
   "mimetype": "text/x-python",
   "name": "python",
   "nbconvert_exporter": "python",
   "pygments_lexer": "ipython3",
   "version": "3.6.9"
  },
  "latex_envs": {
   "LaTeX_envs_menu_present": true,
   "autoclose": false,
   "autocomplete": true,
   "bibliofile": "biblio.bib",
   "cite_by": "apalike",
   "current_citInitial": 1,
   "eqLabelWithNumbers": true,
   "eqNumInitial": 1,
   "hotkeys": {
    "equation": "Ctrl-E",
    "itemize": "Ctrl-I"
   },
   "labels_anchors": false,
   "latex_user_defs": false,
   "report_style_numbering": false,
   "user_envs_cfg": false
  },
  "varInspector": {
   "cols": {
    "lenName": 16,
    "lenType": 16,
    "lenVar": 40
   },
   "kernels_config": {
    "python": {
     "delete_cmd_postfix": "",
     "delete_cmd_prefix": "del ",
     "library": "var_list.py",
     "varRefreshCmd": "print(var_dic_list())"
    },
    "r": {
     "delete_cmd_postfix": ") ",
     "delete_cmd_prefix": "rm(",
     "library": "var_list.r",
     "varRefreshCmd": "cat(var_dic_list()) "
    }
   },
   "types_to_exclude": [
    "module",
    "function",
    "builtin_function_or_method",
    "instance",
    "_Feature"
   ],
   "window_display": false
  }
 },
 "nbformat": 4,
 "nbformat_minor": 4
}
