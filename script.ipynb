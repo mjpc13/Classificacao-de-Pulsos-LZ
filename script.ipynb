{
 "cells": [
  {
   "cell_type": "code",
   "execution_count": 1,
   "metadata": {},
   "outputs": [],
   "source": [
    "import pandas as pd\n",
    "import matplotlib\n",
    "from matplotlib import pyplot as plt\n",
    "from mpl_toolkits.mplot3d import axes3d\n",
    "import numpy as np\n",
    "import sklearn\n",
    "import ipywidgets as widgets\n",
    "\n",
    "from sklearn.preprocessing import StandardScaler"
   ]
  },
  {
   "cell_type": "markdown",
   "metadata": {},
   "source": [
    "# Classificacao de Pulsos LZ\n",
    "\n",
    "## Suporte de cada classe"
   ]
  },
  {
   "cell_type": "code",
   "execution_count": 2,
   "metadata": {},
   "outputs": [
    {
     "data": {
      "text/plain": [
       "3    692863\n",
       "2    285119\n",
       "1     22018\n",
       "Name: pulseClass, dtype: int64"
      ]
     },
     "execution_count": 2,
     "metadata": {},
     "output_type": "execute_result"
    }
   ],
   "source": [
    "#Grava os dados numa Dataframe\n",
    "dataframe = pd.read_csv(\"../Data_Challenge_1.csv\", header=0)\n",
    "\n",
    "\n",
    "#Mostra a representatividade de cada class\n",
    "dataframe['pulseClass'].value_counts(sort=True)"
   ]
  },
  {
   "cell_type": "markdown",
   "metadata": {},
   "source": [
    "## Normalizacao dos dados"
   ]
  },
  {
   "cell_type": "code",
   "execution_count": 3,
   "metadata": {},
   "outputs": [],
   "source": [
    "#Metodo 1\n",
    "def standardizeData(df):\n",
    "    # copy the dataframe\n",
    "    df_std = df.copy()\n",
    "    \n",
    "    for column in df_std.columns:\n",
    "        df_std[column] = (df_std[column] - df_std[column].mean()) / df_std[column].std()\n",
    "        \n",
    "    return df_std\n",
    "\n",
    "dataframe_std = standardizeData(dataframe.drop([\"pulseClass\"], axis=1))"
   ]
  },
  {
   "cell_type": "code",
   "execution_count": 4,
   "metadata": {},
   "outputs": [],
   "source": [
    "#Metodo 2\n",
    "scaler = StandardScaler()\n",
    "scaler.fit(dataframe)\n",
    "data_std = scaler.transform(dataframe)\n",
    "#penso que ambos os metodos fazem a mesma coisa"
   ]
  },
  {
   "cell_type": "markdown",
   "metadata": {},
   "source": [
    "## Estudo da correlacao dos dados"
   ]
  },
  {
   "cell_type": "code",
   "execution_count": 5,
   "metadata": {},
   "outputs": [
    {
     "data": {
      "application/vnd.jupyter.widget-view+json": {
       "model_id": "1d0243e8ff934eadb618d4c906be1f51",
       "version_major": 2,
       "version_minor": 0
      },
      "text/plain": [
       "Dropdown(description='X axis', options=('pA', 'pF50', 'TBA', 'pH', 'pL', 'pL90', 'aft5', 'aft25', 'aft50', 'af…"
      ]
     },
     "metadata": {},
     "output_type": "display_data"
    },
    {
     "data": {
      "application/vnd.jupyter.widget-view+json": {
       "model_id": "cf25cc884a9a4b5aaf0602e461d7c36c",
       "version_major": 2,
       "version_minor": 0
      },
      "text/plain": [
       "Dropdown(description='Y axis', options=('pA', 'pF50', 'TBA', 'pH', 'pL', 'pL90', 'aft5', 'aft25', 'aft50', 'af…"
      ]
     },
     "metadata": {},
     "output_type": "display_data"
    }
   ],
   "source": [
    "w_x_axis = widgets.Dropdown(\n",
    "    options=list(dataframe.columns[1:]),\n",
    "    description='X axis',\n",
    "    disabled=False,\n",
    ")\n",
    "\n",
    "w_y_axis = widgets.Dropdown(\n",
    "    options=list(dataframe.columns[1:]),\n",
    "    description='Y axis',\n",
    "    disabled=False,\n",
    ")\n",
    "\n",
    "display(w_x_axis)\n",
    "display(w_y_axis)"
   ]
  },
  {
   "cell_type": "code",
   "execution_count": 6,
   "metadata": {},
   "outputs": [
    {
     "data": {
      "text/plain": [
       "<matplotlib.collections.PathCollection at 0x170a30a21c0>"
      ]
     },
     "execution_count": 6,
     "metadata": {},
     "output_type": "execute_result"
    },
    {
     "data": {
      "image/png": "[encoded data removed]",
      "text/plain": [
       "<Figure size 432x288 with 1 Axes>"
      ]
     },
     "metadata": {
      "needs_background": "light"
     },
     "output_type": "display_data"
    }
   ],
   "source": [
    "x = dataframe_std[w_x_axis.value].values\n",
    "y = dataframe_std[w_y_axis.value].values\n",
    "label = dataframe[\"pulseClass\"].values\n",
    "\n",
    "plt.scatter(x, y, s=1, c=label)"
   ]
  },
  {
   "cell_type": "code",
   "execution_count": 9,
   "metadata": {},
   "outputs": [
    {
     "data": {
      "text/plain": [
       "<matplotlib.colorbar.Colorbar at 0x170acad4ac0>"
      ]
     },
     "execution_count": 9,
     "metadata": {},
     "output_type": "execute_result"
    },
    {
     "data": {
      "image/png": "[encoded data removed]",
      "text/plain": [
       "<Figure size 288x288 with 2 Axes>"
      ]
     },
     "metadata": {
      "needs_background": "light"
     },
     "output_type": "display_data"
    }
   ],
   "source": [
    "plt.matshow(dataframe_std.cov())\n",
    "plt.xticks(range(17),dataframe_std.columns,fontsize=11,rotation=90)\n",
    "plt.yticks(range(17),dataframe_std.columns,fontsize=11)\n",
    "plt.colorbar()"
   ]
  },
  {
   "cell_type": "code",
   "execution_count": 10,
   "metadata": {},
   "outputs": [],
   "source": [
    "#Combinar features\n",
    "old_feat_names = [\"pA100\", \"pA200\", \"pA500\", \"pA1k\", \"pA2k\", \"pA5k\"]\n",
    "new_feat_names = [\"pF100\", \"pF200\", \"pF500\", \"pF1k\", \"pF2k\", \"pF5k\"]\n",
    "new_dataframe = dataframe\n",
    " \n",
    "for i in range(6):\n",
    "    \n",
    "    new_dataframe[new_feat_names[i]] = dataframe[old_feat_names[i]]/dataframe['pA']\n",
    "\n",
    "\n",
    "new_dataframe_std = standardizeData(new_dataframe.drop(old_feat_names, axis=1))\n"
   ]
  },
  {
   "cell_type": "code",
   "execution_count": 11,
   "metadata": {},
   "outputs": [
    {
     "data": {
      "text/plain": [
       "<matplotlib.colorbar.Colorbar at 0x170adb27130>"
      ]
     },
     "execution_count": 11,
     "metadata": {},
     "output_type": "execute_result"
    },
    {
     "data": {
      "image/png": "[encoded data removed]",
      "text/plain": [
       "<Figure size 288x288 with 2 Axes>"
      ]
     },
     "metadata": {
      "needs_background": "light"
     },
     "output_type": "display_data"
    }
   ],
   "source": [
    "plt.matshow(new_dataframe_std.cov())\n",
    "plt.xticks(range(18),new_dataframe_std.columns,fontsize=11,rotation=90)\n",
    "plt.yticks(range(18),new_dataframe_std.columns,fontsize=11)\n",
    "plt.colorbar()"
   ]
  },
  {
   "cell_type": "code",
   "execution_count": null,
   "metadata": {
    "scrolled": false
   },
   "outputs": [],
   "source": []
  },
  {
   "cell_type": "code",
   "execution_count": null,
   "metadata": {},
   "outputs": [],
   "source": []
  }
 ],
 "metadata": {
  "kernelspec": {
   "display_name": "Python 3",
   "language": "python",
   "name": "python3"
  },
  "language_info": {
   "codemirror_mode": {
    "name": "ipython",
    "version": 3
   },
   "file_extension": ".py",
   "mimetype": "text/x-python",
   "name": "python",
   "nbconvert_exporter": "python",
   "pygments_lexer": "ipython3",
   "version": "3.8.5"
  }
 },
 "nbformat": 4,
 "nbformat_minor": 4
}
