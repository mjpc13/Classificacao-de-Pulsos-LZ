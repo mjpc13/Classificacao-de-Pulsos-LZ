{
 "cells": [
  {
   "cell_type": "code",
   "execution_count": 60,
   "metadata": {},
   "outputs": [],
   "source": [
    "import pandas as pd\n",
    "import numpy as np\n",
    "import ipywidgets as widgets\n",
    "\n",
    "import matplotlib\n",
    "from matplotlib import pyplot as plt\n",
    "\n",
    "import sklearn\n",
    "from sklearn.preprocessing import StandardScaler\n",
    "from sklearn.model_selection import train_test_split\n",
    "from sklearn.discriminant_analysis import LinearDiscriminantAnalysis as LDA\n",
    "from sklearn.decomposition import PCA"
   ]
  },
  {
   "cell_type": "markdown",
   "metadata": {},
   "source": [
    "# Classificacao de Pulsos LZ\n",
    "\n",
    "## Suporte de cada classe"
   ]
  },
  {
   "cell_type": "code",
   "execution_count": 15,
   "metadata": {},
   "outputs": [
    {
     "data": {
      "text/plain": [
       "3    692863\n",
       "2    285119\n",
       "1     22018\n",
       "Name: pulseClass, dtype: int64"
      ]
     },
     "execution_count": 15,
     "metadata": {},
     "output_type": "execute_result"
    }
   ],
   "source": [
    "#Grava os dados numa Dataframe\n",
    "dataframe = pd.read_csv(\"../Data_Challenge_1.csv\", header=0)\n",
    "\n",
    "\n",
    "#Mostra a representatividade de cada class\n",
    "dataframe['pulseClass'].value_counts(sort=True)"
   ]
  },
  {
   "cell_type": "code",
   "execution_count": 38,
   "metadata": {},
   "outputs": [],
   "source": [
    "# Dividir os dados em Treino e Teste (80%//20%)\n",
    "\n",
    "train_data, test_data, train_lbl, test_lbl = train_test_split(dataframe.drop([\"pulseClass\"], axis=1), dataframe[\"pulseClass\"], test_size=1/5.0, random_state=0) "
   ]
  },
  {
   "cell_type": "markdown",
   "metadata": {},
   "source": [
    "## Normalizacao dos dados"
   ]
  },
  {
   "cell_type": "code",
   "execution_count": 16,
   "metadata": {},
   "outputs": [],
   "source": [
    "#Metodo 1\n",
    "def standardizeData(df):\n",
    "    # copy the dataframe\n",
    "    df_std = df.copy()\n",
    "    \n",
    "    for column in df_std.columns:\n",
    "        df_std[column] = (df_std[column] - df_std[column].mean()) / df_std[column].std()\n",
    "        \n",
    "    return df_std\n",
    "\n",
    "dataframe_std = standardizeData(dataframe.drop([\"pulseClass\"], axis=1))"
   ]
  },
  {
   "cell_type": "code",
   "execution_count": 40,
   "metadata": {},
   "outputs": [],
   "source": [
    "#Metodo 2\n",
    "\n",
    "scaler = StandardScaler()\n",
    "scaler.fit(train_data)\n",
    "train_data = scaler.transform(train_data)\n",
    "test_data = scaler.transform(train_data)\n"
   ]
  },
  {
   "cell_type": "markdown",
   "metadata": {},
   "source": [
    "## Estudo da correlacao dos dados"
   ]
  },
  {
   "cell_type": "code",
   "execution_count": 18,
   "metadata": {},
   "outputs": [
    {
     "data": {
      "application/vnd.jupyter.widget-view+json": {
       "model_id": "d904911e14724c6eb61b01d1b46640bb",
       "version_major": 2,
       "version_minor": 0
      },
      "text/plain": [
       "Dropdown(description='X axis', options=('pA', 'pF50', 'TBA', 'pH', 'pL', 'pL90', 'aft5', 'aft25', 'aft50', 'af…"
      ]
     },
     "metadata": {},
     "output_type": "display_data"
    },
    {
     "data": {
      "application/vnd.jupyter.widget-view+json": {
       "model_id": "4ccd670be30447f79305f69dadc432e4",
       "version_major": 2,
       "version_minor": 0
      },
      "text/plain": [
       "Dropdown(description='Y axis', options=('pA', 'pF50', 'TBA', 'pH', 'pL', 'pL90', 'aft5', 'aft25', 'aft50', 'af…"
      ]
     },
     "metadata": {},
     "output_type": "display_data"
    }
   ],
   "source": [
    "w_x_axis = widgets.Dropdown(\n",
    "    options=list(dataframe.columns[1:]),\n",
    "    description='X axis',\n",
    "    disabled=False,\n",
    ")\n",
    "\n",
    "w_y_axis = widgets.Dropdown(\n",
    "    options=list(dataframe.columns[1:]),\n",
    "    description='Y axis',\n",
    "    disabled=False,\n",
    ")\n",
    "\n",
    "display(w_x_axis)\n",
    "display(w_y_axis)"
   ]
  },
  {
   "cell_type": "code",
   "execution_count": 19,
   "metadata": {},
   "outputs": [
    {
     "data": {
      "text/plain": [
       "<matplotlib.collections.PathCollection at 0x7f768e50a0f0>"
      ]
     },
     "execution_count": 19,
     "metadata": {},
     "output_type": "execute_result"
    },
    {
     "data": {
      "image/png": "[encoded data removed]",
      "text/plain": [
       "<Figure size 432x288 with 1 Axes>"
      ]
     },
     "metadata": {
      "needs_background": "light"
     },
     "output_type": "display_data"
    }
   ],
   "source": [
    "x = dataframe_std[w_x_axis.value].values\n",
    "y = dataframe_std[w_y_axis.value].values\n",
    "label = dataframe[\"pulseClass\"].values\n",
    "\n",
    "plt.scatter(x, y, s=1, c=label)"
   ]
  },
  {
   "cell_type": "markdown",
   "metadata": {},
   "source": [
    "## Selecao e reducao de Features\n",
    "\n",
    "### Por correlacao"
   ]
  },
  {
   "cell_type": "code",
   "execution_count": 20,
   "metadata": {},
   "outputs": [
    {
     "data": {
      "text/plain": [
       "<matplotlib.colorbar.Colorbar at 0x7f768e49d6d8>"
      ]
     },
     "execution_count": 20,
     "metadata": {},
     "output_type": "execute_result"
    },
    {
     "data": {
      "image/png": "[encoded data removed]",
      "text/plain": [
       "<Figure size 288x288 with 2 Axes>"
      ]
     },
     "metadata": {
      "needs_background": "light"
     },
     "output_type": "display_data"
    }
   ],
   "source": [
    "plt.matshow(dataframe_std.cov())\n",
    "plt.xticks(range(17),dataframe_std.columns,fontsize=11,rotation=90)\n",
    "plt.yticks(range(17),dataframe_std.columns,fontsize=11)\n",
    "plt.colorbar()"
   ]
  },
  {
   "cell_type": "markdown",
   "metadata": {},
   "source": [
    "A matrix de Covariancia mostra que os aftxx estao altamentre correlacionados entre si, assim como os pAxx. Isto significa que usar pA100 e pA200 nao vai adicionar grande informacao vs usar apenas pA100, por isso podemos ignorar features altamente correlacionadas. Mas em vez de simplesmente ignorar, podemos combinar features e tentar eliminar a correlacao entre elas. E possivel eliminar a dependencia entre os varios pAxx's se dividirmos pela area total do sinal (pA).\n",
    "\n",
    "ADICIONAR FORMULA EM LATEX"
   ]
  },
  {
   "cell_type": "code",
   "execution_count": 59,
   "metadata": {},
   "outputs": [
    {
     "data": {
      "text/plain": [
       "<matplotlib.colorbar.Colorbar at 0x7f768e11df98>"
      ]
     },
     "execution_count": 59,
     "metadata": {},
     "output_type": "execute_result"
    },
    {
     "data": {
      "image/png": "[encoded data removed]",
      "text/plain": [
       "<Figure size 288x288 with 2 Axes>"
      ]
     },
     "metadata": {
      "needs_background": "light"
     },
     "output_type": "display_data"
    }
   ],
   "source": [
    "#Combinar features\n",
    "old_feat_names = [\"pA100\", \"pA200\", \"pA500\", \"pA1k\", \"pA2k\", \"pA5k\"]\n",
    "new_feat_names = [\"pF100\", \"pF200\", \"pF500\", \"pF1k\", \"pF2k\", \"pF5k\"]\n",
    "new_dataframe = dataframe\n",
    " \n",
    "for i in range(6):\n",
    "    \n",
    "    new_dataframe[new_feat_names[i]] = dataframe[old_feat_names[i]]/dataframe['pA']\n",
    "\n",
    "new_dataframe_std = standardizeData(new_dataframe.drop(old_feat_names, axis=1))\n",
    "\n",
    "plt.matshow(new_dataframe_std.cov())\n",
    "plt.xticks(range(18),new_dataframe_std.columns,fontsize=11,rotation=90)\n",
    "plt.yticks(range(18),new_dataframe_std.columns,fontsize=11)\n",
    "plt.colorbar()"
   ]
  },
  {
   "cell_type": "markdown",
   "metadata": {},
   "source": []
  },
  {
   "cell_type": "code",
   "execution_count": 25,
   "metadata": {
    "scrolled": false
   },
   "outputs": [
    {
     "data": {
      "image/png": "[encoded data removed]",
      "text/plain": [
       "<Figure size 432x288 with 1 Axes>"
      ]
     },
     "metadata": {
      "needs_background": "light"
     },
     "output_type": "display_data"
    }
   ],
   "source": [
    "#Feature Reduction metodo 1\n",
    "\n",
    "temp = new_dataframe_std\n",
    "\n",
    "plt.bar(temp.columns, temp.corr().abs()[\"pulseClass\"])\n",
    "plt.xticks(range(temp.shape[1]), temp.columns, fontsize=14, rotation=90)\n",
    "plt.ylabel(\"Correlation coefficient\")\n",
    "plt.show()"
   ]
  },
  {
   "cell_type": "code",
   "execution_count": 54,
   "metadata": {},
   "outputs": [],
   "source": [
    "#Remover features por visual inspection da correlacao entre estas com o tipo de pulsos, reparar que como os S1\n",
    "#estao MUITO mal representados, com esta dataset o metodo nao deve prever correctamente esta classe\n",
    "\n",
    "final_data = new_dataframe_std.drop([\"pA\", \"pH\", \"pF200\", \"pF500\", \"pF1k\", \"pF2k\", \"pF5k\"], axis = 1)\n",
    "\n",
    "visual_train_data, visual_test_data, visual_train_lbl, visual_test_lbl = train_test_split(final_data, dataframe[\"pulseClass\"], test_size=1/5.0, random_state=0) "
   ]
  },
  {
   "cell_type": "markdown",
   "metadata": {},
   "source": [
    "### PCA Analysis"
   ]
  },
  {
   "cell_type": "code",
   "execution_count": 52,
   "metadata": {},
   "outputs": [
    {
     "data": {
      "text/plain": [
       "5"
      ]
     },
     "execution_count": 52,
     "metadata": {},
     "output_type": "execute_result"
    }
   ],
   "source": [
    "pca = PCA(.95)\n",
    "pca.fit(train_data)\n",
    "\n",
    "pca_train_data = pca.transform(train_data)\n",
    "pca_test_data = pca.transform(test_data)\n",
    "\n",
    "pca.n_components_"
   ]
  },
  {
   "cell_type": "markdown",
   "metadata": {},
   "source": [
    "### LDA Analysis"
   ]
  },
  {
   "cell_type": "code",
   "execution_count": 67,
   "metadata": {},
   "outputs": [],
   "source": [
    "\n",
    "lda = LDA(n_components=2)\n",
    "\n",
    "lda_train_data = lda.fit_transform(train_data, train_lbl)\n",
    "lda_test_data = lda.transform(test_data)\n"
   ]
  },
  {
   "cell_type": "code",
   "execution_count": null,
   "metadata": {},
   "outputs": [],
   "source": []
  },
  {
   "cell_type": "code",
   "execution_count": null,
   "metadata": {},
   "outputs": [],
   "source": []
  }
 ],
 "metadata": {
  "kernelspec": {
   "display_name": "Python 3",
   "language": "python",
   "name": "python3"
  },
  "language_info": {
   "codemirror_mode": {
    "name": "ipython",
    "version": 3
   },
   "file_extension": ".py",
   "mimetype": "text/x-python",
   "name": "python",
   "nbconvert_exporter": "python",
   "pygments_lexer": "ipython3",
   "version": "3.6.9"
  }
 },
 "nbformat": 4,
 "nbformat_minor": 4
}
