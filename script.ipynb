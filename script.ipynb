{
 "cells": [
  {
   "cell_type": "code",
   "execution_count": 2,
   "metadata": {},
   "outputs": [],
   "source": [
    "import pandas as pd\n",
    "import numpy as np\n",
    "import ipywidgets as widgets\n",
    "import seaborn as sn\n",
    "from pprint import pprint\n",
    "\n",
    "import matplotlib\n",
    "from matplotlib import pyplot as plt\n",
    "\n",
    "import sklearn\n",
    "from sklearn.preprocessing import StandardScaler\n",
    "from sklearn.model_selection import train_test_split\n",
    "from sklearn.discriminant_analysis import LinearDiscriminantAnalysis as LDA\n",
    "from sklearn.decomposition import PCA\n",
    "from sklearn.ensemble import RandomForestRegressor\n",
    "from sklearn.model_selection import RandomizedSearchCV\n",
    "from sklearn.metrics import accuracy_score, confusion_matrix, classification_report"
   ]
  },
  {
   "cell_type": "markdown",
   "metadata": {},
   "source": [
    "# Classificacao de Pulsos LZ\n",
    "\n",
    "## Suporte de cada classe"
   ]
  },
  {
   "cell_type": "code",
   "execution_count": 3,
   "metadata": {},
   "outputs": [
    {
     "data": {
      "text/plain": [
       "3    692863\n",
       "2    285119\n",
       "1     22018\n",
       "Name: pulseClass, dtype: int64"
      ]
     },
     "execution_count": 3,
     "metadata": {},
     "output_type": "execute_result"
    }
   ],
   "source": [
    "#Grava os dados numa Dataframe\n",
    "dataframe = pd.read_csv(\"../Data_Challenge_1.csv\", header=0)\n",
    "\n",
    "\n",
    "#Mostra a representatividade de cada class\n",
    "dataframe['pulseClass'].value_counts(sort=True)"
   ]
  },
  {
   "cell_type": "code",
   "execution_count": 4,
   "metadata": {},
   "outputs": [],
   "source": [
    "# Dividir os dados em Treino e Teste (80%//20%)\n",
    "\n",
    "train_data, test_data, train_lbl, test_lbl = train_test_split(dataframe.drop([\"pulseClass\"], axis=1), dataframe[\"pulseClass\"], test_size=1/5.0, random_state=0) "
   ]
  },
  {
   "cell_type": "markdown",
   "metadata": {},
   "source": [
    "## Normalizacao dos dados"
   ]
  },
  {
   "cell_type": "code",
   "execution_count": 5,
   "metadata": {},
   "outputs": [],
   "source": [
    "#Metodo 1\n",
    "def standardizeData(df):\n",
    "    # copy the dataframe\n",
    "    df_std = df.copy()\n",
    "    \n",
    "    for column in df_std.columns:\n",
    "        df_std[column] = (df_std[column] - df_std[column].mean()) / df_std[column].std()\n",
    "        \n",
    "    return df_std\n",
    "\n",
    "dataframe_std = standardizeData(dataframe.drop([\"pulseClass\"], axis=1))"
   ]
  },
  {
   "cell_type": "code",
   "execution_count": 6,
   "metadata": {},
   "outputs": [],
   "source": [
    "#Metodo 2\n",
    "\n",
    "scaler = StandardScaler()\n",
    "scaler.fit(train_data)\n",
    "\n",
    "train_data = scaler.transform(train_data)\n",
    "test_data = scaler.transform(test_data)"
   ]
  },
  {
   "cell_type": "markdown",
   "metadata": {},
   "source": [
    "## Estudo da correlacao dos dados"
   ]
  },
  {
   "cell_type": "code",
   "execution_count": 7,
   "metadata": {},
   "outputs": [
    {
     "data": {
      "application/vnd.jupyter.widget-view+json": {
       "model_id": "65d1857f62e240b79b407ee96fcfef20",
       "version_major": 2,
       "version_minor": 0
      },
      "text/plain": [
       "Dropdown(description='X axis', options=('pA', 'pF50', 'TBA', 'pH', 'pL', 'pL90', 'aft5', 'aft25', 'aft50', 'af…"
      ]
     },
     "metadata": {},
     "output_type": "display_data"
    },
    {
     "data": {
      "application/vnd.jupyter.widget-view+json": {
       "model_id": "2e85b216f8154048a40efdc7a2984100",
       "version_major": 2,
       "version_minor": 0
      },
      "text/plain": [
       "Dropdown(description='Y axis', options=('pA', 'pF50', 'TBA', 'pH', 'pL', 'pL90', 'aft5', 'aft25', 'aft50', 'af…"
      ]
     },
     "metadata": {},
     "output_type": "display_data"
    }
   ],
   "source": [
    "w_x_axis = widgets.Dropdown(\n",
    "    options=list(dataframe.columns[1:]),\n",
    "    description='X axis',\n",
    "    disabled=False,\n",
    ")\n",
    "\n",
    "w_y_axis = widgets.Dropdown(\n",
    "    options=list(dataframe.columns[1:]),\n",
    "    description='Y axis',\n",
    "    disabled=False,\n",
    ")\n",
    "\n",
    "display(w_x_axis)\n",
    "display(w_y_axis)"
   ]
  },
  {
   "cell_type": "code",
   "execution_count": 8,
   "metadata": {},
   "outputs": [
    {
     "data": {
      "text/plain": [
       "<matplotlib.collections.PathCollection at 0x7f0cd4bc6f60>"
      ]
     },
     "execution_count": 8,
     "metadata": {},
     "output_type": "execute_result"
    },
    {
     "data": {
      "image/png": "[encoded data removed]",
      "text/plain": [
       "<Figure size 432x288 with 1 Axes>"
      ]
     },
     "metadata": {
      "needs_background": "light"
     },
     "output_type": "display_data"
    }
   ],
   "source": [
    "x = dataframe_std[w_x_axis.value].values\n",
    "y = dataframe_std[w_y_axis.value].values\n",
    "label = dataframe[\"pulseClass\"].values\n",
    "\n",
    "plt.scatter(x, y, s=1, c=label)\n",
    "\n",
    "#plt.hist2d(np.log10(x), y, bins=(np.linspace(-4.5,7.5,150), np.linspace(-0.2,1.5,150)), cmap=plt.cm.viridis)"
   ]
  },
  {
   "cell_type": "markdown",
   "metadata": {},
   "source": [
    "## Selecao e reducao de Features\n",
    "\n",
    "### Por correlacao"
   ]
  },
  {
   "cell_type": "code",
   "execution_count": 9,
   "metadata": {},
   "outputs": [
    {
     "data": {
      "text/plain": [
       "<matplotlib.colorbar.Colorbar at 0x7f0cd4b26c88>"
      ]
     },
     "execution_count": 9,
     "metadata": {},
     "output_type": "execute_result"
    },
    {
     "data": {
      "image/png": "[encoded data removed]",
      "text/plain": [
       "<Figure size 288x288 with 2 Axes>"
      ]
     },
     "metadata": {
      "needs_background": "light"
     },
     "output_type": "display_data"
    }
   ],
   "source": [
    "plt.matshow(dataframe_std.cov())\n",
    "plt.xticks(range(17),dataframe_std.columns,fontsize=11,rotation=90)\n",
    "plt.yticks(range(17),dataframe_std.columns,fontsize=11)\n",
    "plt.colorbar()"
   ]
  },
  {
   "cell_type": "markdown",
   "metadata": {},
   "source": [
    "A matrix de Covariancia mostra que os aftxx estao altamentre correlacionados entre si, assim como os pAxx. Isto significa que usar pA100 e pA200 nao vai adicionar grande informacao vs usar apenas pA100, por isso podemos ignorar features altamente correlacionadas. Mas em vez de simplesmente ignorar, podemos combinar features e tentar eliminar a correlacao entre elas. E possivel eliminar a dependencia entre os varios pAxx's se dividirmos pela area total do sinal (pA).\n",
    "\n",
    "ADICIONAR FORMULA EM LATEX"
   ]
  },
  {
   "cell_type": "code",
   "execution_count": 10,
   "metadata": {},
   "outputs": [
    {
     "data": {
      "text/plain": [
       "<matplotlib.colorbar.Colorbar at 0x7f0cd49ac080>"
      ]
     },
     "execution_count": 10,
     "metadata": {},
     "output_type": "execute_result"
    },
    {
     "data": {
      "image/png": "[encoded data removed]",
      "text/plain": [
       "<Figure size 288x288 with 2 Axes>"
      ]
     },
     "metadata": {
      "needs_background": "light"
     },
     "output_type": "display_data"
    }
   ],
   "source": [
    "#Eliminar correlacao entre pAxxx\n",
    "\n",
    "old_feat_names = [\"pA100\", \"pA200\", \"pA500\", \"pA1k\", \"pA2k\", \"pA5k\"]\n",
    "new_feat_names = [\"pF100\", \"pF200\", \"pF500\", \"pF1k\", \"pF2k\", \"pF5k\"]\n",
    "new_dataframe = dataframe\n",
    "\n",
    "for i in range(6):\n",
    "    \n",
    "    new_dataframe[new_feat_names[i]] = dataframe[old_feat_names[i]]/dataframe['pA']\n",
    "\n",
    "new_dataframe_std = standardizeData(new_dataframe.drop(old_feat_names, axis=1))\n",
    "\n",
    "new_dataframe_std = new_dataframe_std.drop(\"pL\",axis=1)\n",
    "\n",
    "plt.matshow(new_dataframe_std.cov())\n",
    "plt.xticks(range(17),new_dataframe_std.columns,fontsize=11,rotation=90)\n",
    "plt.yticks(range(17),new_dataframe_std.columns,fontsize=11)\n",
    "plt.colorbar()"
   ]
  },
  {
   "cell_type": "code",
   "execution_count": 11,
   "metadata": {},
   "outputs": [
    {
     "data": {
      "text/plain": [
       "<matplotlib.colorbar.Colorbar at 0x7f0cd4934f28>"
      ]
     },
     "execution_count": 11,
     "metadata": {},
     "output_type": "execute_result"
    },
    {
     "data": {
      "image/png": "[encoded data removed]",
      "text/plain": [
       "<Figure size 288x288 with 2 Axes>"
      ]
     },
     "metadata": {
      "needs_background": "light"
     },
     "output_type": "display_data"
    }
   ],
   "source": [
    "#Combinar os aftxx com LDA\n",
    "\n",
    "lda = LDA(n_components=2)\n",
    "\n",
    "lda_afts = lda.fit_transform(new_dataframe_std[[\"aft5\",\"aft25\", \"aft50\", \"aft75\", \"aft95\"]].values, dataframe[\"pulseClass\"].values)\n",
    "\n",
    "new_dataframe_std = new_dataframe_std.drop([\"aft5\",\"aft25\", \"aft50\", \"aft75\", \"aft95\"], axis=1)\n",
    "new_dataframe_std[\"lda_aft1\"] = lda_afts[:,0]\n",
    "new_dataframe_std[\"lda_aft2\"] = lda_afts[:,1]\n",
    "\n",
    "plt.matshow(new_dataframe_std.cov())\n",
    "plt.xticks(range(14),new_dataframe_std.columns,fontsize=11,rotation=90)\n",
    "plt.yticks(range(14),new_dataframe_std.columns,fontsize=11)\n",
    "plt.colorbar()"
   ]
  },
  {
   "cell_type": "markdown",
   "metadata": {},
   "source": []
  },
  {
   "cell_type": "code",
   "execution_count": 12,
   "metadata": {
    "scrolled": false
   },
   "outputs": [
    {
     "data": {
      "image/png": "[encoded data removed]",
      "text/plain": [
       "<Figure size 432x288 with 1 Axes>"
      ]
     },
     "metadata": {
      "needs_background": "light"
     },
     "output_type": "display_data"
    }
   ],
   "source": [
    "#Feature Reduction metodo 1\n",
    "\n",
    "temp = new_dataframe_std\n",
    "\n",
    "plt.bar(temp.columns, temp.corr().abs()[\"pulseClass\"])\n",
    "plt.xticks(range(temp.shape[1]), temp.columns, fontsize=14, rotation=90)\n",
    "plt.ylabel(\"Correlation coefficient\")\n",
    "plt.show()"
   ]
  },
  {
   "cell_type": "code",
   "execution_count": 13,
   "metadata": {},
   "outputs": [],
   "source": [
    "final_data = new_dataframe_std.drop([\"pA\", \"pH\", \"pF200\", \"pF500\", \"pF1k\", \"pF2k\", \"pF5k\", \"lda_aft2\"], axis = 1)\n",
    "\n",
    "threshold_train_data, threshold_test_data, threshold_train_lbl, threshold_test_lbl = train_test_split(final_data, dataframe[\"pulseClass\"], test_size=1/5.0, random_state=0) "
   ]
  },
  {
   "cell_type": "markdown",
   "metadata": {},
   "source": [
    "### PCA Analysis"
   ]
  },
  {
   "cell_type": "code",
   "execution_count": 17,
   "metadata": {},
   "outputs": [
    {
     "data": {
      "text/plain": [
       "6"
      ]
     },
     "execution_count": 17,
     "metadata": {},
     "output_type": "execute_result"
    }
   ],
   "source": [
    "pca = PCA(.98)\n",
    "pca.fit(train_data)\n",
    "\n",
    "pca_train_data = pca.transform(train_data)\n",
    "pca_test_data = pca.transform(test_data)\n",
    "\n",
    "pca.n_components_"
   ]
  },
  {
   "cell_type": "markdown",
   "metadata": {},
   "source": []
  },
  {
   "cell_type": "markdown",
   "metadata": {},
   "source": [
    "## Random Forests"
   ]
  },
  {
   "cell_type": "code",
   "execution_count": 18,
   "metadata": {},
   "outputs": [],
   "source": [
    "rf = RandomForestRegressor(random_state = 42)\n",
    "\n",
    "rf.fit(pca_train_data, train_lbl);"
   ]
  },
  {
   "cell_type": "code",
   "execution_count": 19,
   "metadata": {},
   "outputs": [],
   "source": [
    "def evaluate(model, test_features, test_labels):\n",
    "    predictions = model.predict(test_features)\n",
    "    errors = abs(predictions - test_labels)\n",
    "    mape = 100 * np.mean(errors / test_labels)\n",
    "    accuracy = 100 - mape\n",
    "    print('Model Performance')\n",
    "    print('Average Error: {:0.4f} degrees.'.format(np.mean(errors)))\n",
    "    print('Accuracy = {:0.2f}%.'.format(accuracy))\n",
    "    \n",
    "    #return accuracy"
   ]
  },
  {
   "cell_type": "code",
   "execution_count": 20,
   "metadata": {},
   "outputs": [
    {
     "name": "stdout",
     "output_type": "stream",
     "text": [
      "Model Performance\n",
      "Average Error: 0.0166 degrees.\n",
      "Accuracy = 99.30%.\n"
     ]
    }
   ],
   "source": [
    "evaluate(rf, pca_test_data, test_lbl)"
   ]
  },
  {
   "cell_type": "code",
   "execution_count": 30,
   "metadata": {},
   "outputs": [
    {
     "data": {
      "text/plain": [
       "<AxesSubplot:>"
      ]
     },
     "execution_count": 30,
     "metadata": {},
     "output_type": "execute_result"
    },
    {
     "data": {
      "image/png": "[encoded data removed]",
      "text/plain": [
       "<Figure size 432x288 with 2 Axes>"
      ]
     },
     "metadata": {
      "needs_background": "light"
     },
     "output_type": "display_data"
    }
   ],
   "source": [
    "pca_predictions = rf.predict(pca_test_data).astype(\"int\")\n",
    "\n",
    "conf_matrix = confusion_matrix(test_lbl, pca_predictions)\n",
    "conf_matrix = conf_matrix.astype('float') / conf_matrix.sum(axis=1)[:, np.newaxis]\n",
    "\n",
    "sn.heatmap(conf_matrix, annot=True)"
   ]
  },
  {
   "cell_type": "code",
   "execution_count": 22,
   "metadata": {},
   "outputs": [
    {
     "name": "stdout",
     "output_type": "stream",
     "text": [
      "              precision    recall  f1-score   support\n",
      "\n",
      "           1       0.99      1.00      1.00      4388\n",
      "           2       0.69      1.00      0.81     56898\n",
      "           3       1.00      0.81      0.90    138714\n",
      "\n",
      "    accuracy                           0.87    200000\n",
      "   macro avg       0.89      0.94      0.90    200000\n",
      "weighted avg       0.91      0.87      0.87    200000\n",
      "\n"
     ]
    }
   ],
   "source": [
    "print(classification_report(test_lbl, pca_predictions))"
   ]
  },
  {
   "cell_type": "markdown",
   "metadata": {},
   "source": [
    "### Hyperparameter"
   ]
  },
  {
   "cell_type": "code",
   "execution_count": 23,
   "metadata": {},
   "outputs": [
    {
     "name": "stdout",
     "output_type": "stream",
     "text": [
      "{'bootstrap': [True, False],\n",
      " 'max_depth': [5, 15, 26, 36, 47, 57, 68, 78, 89, 100, None],\n",
      " 'max_features': ['auto', 'sqrt'],\n",
      " 'min_samples_leaf': [1, 2, 4, 5],\n",
      " 'min_samples_split': [2, 5, 10, 15],\n",
      " 'n_estimators': [10, 75, 141, 206, 272, 337, 403, 468, 534, 600]}\n"
     ]
    }
   ],
   "source": [
    "# Numero de arvores na Random Forest\n",
    "n_estimators = [int(x) for x in np.linspace(start = 10, stop = 600, num = 10)]\n",
    "\n",
    "# Number of features to consider at every split\n",
    "max_features = ['auto', 'sqrt']\n",
    "\n",
    "# Numero maximo de niveis na arvore\n",
    "max_depth = [int(x) for x in np.linspace(5, 100, num = 10)]\n",
    "max_depth.append(None)\n",
    "\n",
    "# Numero minimo de samples para dividir um nodo\n",
    "min_samples_split = [2, 5, 10, 15]\n",
    "\n",
    "\n",
    "min_samples_leaf = [1, 2, 4, 5]\n",
    "\n",
    "# Method of selecting samples for training each tree\n",
    "bootstrap = [True, False]\n",
    "\n",
    "random_grid = {'n_estimators': n_estimators, 'max_features': max_features,'max_depth': max_depth,'min_samples_split': min_samples_split,'min_samples_leaf': min_samples_leaf,'bootstrap': bootstrap}\n",
    "\n",
    "pprint(random_grid)"
   ]
  },
  {
   "cell_type": "code",
   "execution_count": 24,
   "metadata": {},
   "outputs": [],
   "source": [
    "rf1 = RandomForestRegressor()\n",
    "\n",
    "rf_random = RandomizedSearchCV(estimator = rf1, param_distributions = random_grid, n_iter = 20, cv = 3, verbose=2, random_state=42, n_jobs = -1)"
   ]
  },
  {
   "cell_type": "code",
   "execution_count": 25,
   "metadata": {},
   "outputs": [],
   "source": [
    "#rf_random.fit(pca_train_data, train_lbl)"
   ]
  },
  {
   "cell_type": "code",
   "execution_count": null,
   "metadata": {},
   "outputs": [],
   "source": []
  },
  {
   "cell_type": "code",
   "execution_count": null,
   "metadata": {},
   "outputs": [],
   "source": []
  },
  {
   "cell_type": "code",
   "execution_count": null,
   "metadata": {},
   "outputs": [],
   "source": []
  }
 ],
 "metadata": {
  "kernelspec": {
   "display_name": "Python 3",
   "language": "python",
   "name": "python3"
  },
  "language_info": {
   "codemirror_mode": {
    "name": "ipython",
    "version": 3
   },
   "file_extension": ".py",
   "mimetype": "text/x-python",
   "name": "python",
   "nbconvert_exporter": "python",
   "pygments_lexer": "ipython3",
   "version": "3.6.9"
  }
 },
 "nbformat": 4,
 "nbformat_minor": 4
}
